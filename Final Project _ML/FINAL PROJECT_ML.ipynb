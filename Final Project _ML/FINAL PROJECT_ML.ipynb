{
 "cells": [
  {
   "cell_type": "markdown",
   "id": "d6f4cfbb",
   "metadata": {},
   "source": [
    "## Load the Libraries"
   ]
  },
  {
   "cell_type": "code",
   "execution_count": 1,
   "id": "df0721a0",
   "metadata": {},
   "outputs": [],
   "source": [
    "#importing all the required libraries\n",
    "import numpy as np\n",
    "import pandas as pd\n",
    "\n",
    "import matplotlib.pyplot as plt\n",
    "%matplotlib inline\n",
    "\n",
    "import warnings\n",
    "warnings.filterwarnings('ignore')"
   ]
  },
  {
   "cell_type": "markdown",
   "id": "665d4f83",
   "metadata": {},
   "source": [
    "## Importing the Dataset"
   ]
  },
  {
   "cell_type": "code",
   "execution_count": 2,
   "id": "2929f865",
   "metadata": {},
   "outputs": [],
   "source": [
    "data = pd.read_csv('Datasets/nyc_taxi_trip_duration.csv')"
   ]
  },
  {
   "cell_type": "code",
   "execution_count": 3,
   "id": "9f838b58",
   "metadata": {},
   "outputs": [
    {
     "data": {
      "text/plain": [
       "(729322, 11)"
      ]
     },
     "execution_count": 3,
     "metadata": {},
     "output_type": "execute_result"
    }
   ],
   "source": [
    "#checking the size of the dataset\n",
    "data.shape"
   ]
  },
  {
   "cell_type": "code",
   "execution_count": 4,
   "id": "c9a5e85d",
   "metadata": {},
   "outputs": [
    {
     "data": {
      "text/html": [
       "<div>\n",
       "<style scoped>\n",
       "    .dataframe tbody tr th:only-of-type {\n",
       "        vertical-align: middle;\n",
       "    }\n",
       "\n",
       "    .dataframe tbody tr th {\n",
       "        vertical-align: top;\n",
       "    }\n",
       "\n",
       "    .dataframe thead th {\n",
       "        text-align: right;\n",
       "    }\n",
       "</style>\n",
       "<table border=\"1\" class=\"dataframe\">\n",
       "  <thead>\n",
       "    <tr style=\"text-align: right;\">\n",
       "      <th></th>\n",
       "      <th>id</th>\n",
       "      <th>vendor_id</th>\n",
       "      <th>pickup_datetime</th>\n",
       "      <th>dropoff_datetime</th>\n",
       "      <th>passenger_count</th>\n",
       "      <th>pickup_longitude</th>\n",
       "      <th>pickup_latitude</th>\n",
       "      <th>dropoff_longitude</th>\n",
       "      <th>dropoff_latitude</th>\n",
       "      <th>store_and_fwd_flag</th>\n",
       "      <th>trip_duration</th>\n",
       "    </tr>\n",
       "  </thead>\n",
       "  <tbody>\n",
       "    <tr>\n",
       "      <th>0</th>\n",
       "      <td>id1080784</td>\n",
       "      <td>2</td>\n",
       "      <td>2016-02-29 16:40:21</td>\n",
       "      <td>2016-02-29 16:47:01</td>\n",
       "      <td>1</td>\n",
       "      <td>-73.953918</td>\n",
       "      <td>40.778873</td>\n",
       "      <td>-73.963875</td>\n",
       "      <td>40.771164</td>\n",
       "      <td>N</td>\n",
       "      <td>400</td>\n",
       "    </tr>\n",
       "    <tr>\n",
       "      <th>1</th>\n",
       "      <td>id0889885</td>\n",
       "      <td>1</td>\n",
       "      <td>2016-03-11 23:35:37</td>\n",
       "      <td>2016-03-11 23:53:57</td>\n",
       "      <td>2</td>\n",
       "      <td>-73.988312</td>\n",
       "      <td>40.731743</td>\n",
       "      <td>-73.994751</td>\n",
       "      <td>40.694931</td>\n",
       "      <td>N</td>\n",
       "      <td>1100</td>\n",
       "    </tr>\n",
       "    <tr>\n",
       "      <th>2</th>\n",
       "      <td>id0857912</td>\n",
       "      <td>2</td>\n",
       "      <td>2016-02-21 17:59:33</td>\n",
       "      <td>2016-02-21 18:26:48</td>\n",
       "      <td>2</td>\n",
       "      <td>-73.997314</td>\n",
       "      <td>40.721458</td>\n",
       "      <td>-73.948029</td>\n",
       "      <td>40.774918</td>\n",
       "      <td>N</td>\n",
       "      <td>1635</td>\n",
       "    </tr>\n",
       "    <tr>\n",
       "      <th>3</th>\n",
       "      <td>id3744273</td>\n",
       "      <td>2</td>\n",
       "      <td>2016-01-05 09:44:31</td>\n",
       "      <td>2016-01-05 10:03:32</td>\n",
       "      <td>6</td>\n",
       "      <td>-73.961670</td>\n",
       "      <td>40.759720</td>\n",
       "      <td>-73.956779</td>\n",
       "      <td>40.780628</td>\n",
       "      <td>N</td>\n",
       "      <td>1141</td>\n",
       "    </tr>\n",
       "    <tr>\n",
       "      <th>4</th>\n",
       "      <td>id0232939</td>\n",
       "      <td>1</td>\n",
       "      <td>2016-02-17 06:42:23</td>\n",
       "      <td>2016-02-17 06:56:31</td>\n",
       "      <td>1</td>\n",
       "      <td>-74.017120</td>\n",
       "      <td>40.708469</td>\n",
       "      <td>-73.988182</td>\n",
       "      <td>40.740631</td>\n",
       "      <td>N</td>\n",
       "      <td>848</td>\n",
       "    </tr>\n",
       "  </tbody>\n",
       "</table>\n",
       "</div>"
      ],
      "text/plain": [
       "          id  vendor_id      pickup_datetime     dropoff_datetime  \\\n",
       "0  id1080784          2  2016-02-29 16:40:21  2016-02-29 16:47:01   \n",
       "1  id0889885          1  2016-03-11 23:35:37  2016-03-11 23:53:57   \n",
       "2  id0857912          2  2016-02-21 17:59:33  2016-02-21 18:26:48   \n",
       "3  id3744273          2  2016-01-05 09:44:31  2016-01-05 10:03:32   \n",
       "4  id0232939          1  2016-02-17 06:42:23  2016-02-17 06:56:31   \n",
       "\n",
       "   passenger_count  pickup_longitude  pickup_latitude  dropoff_longitude  \\\n",
       "0                1        -73.953918        40.778873         -73.963875   \n",
       "1                2        -73.988312        40.731743         -73.994751   \n",
       "2                2        -73.997314        40.721458         -73.948029   \n",
       "3                6        -73.961670        40.759720         -73.956779   \n",
       "4                1        -74.017120        40.708469         -73.988182   \n",
       "\n",
       "   dropoff_latitude store_and_fwd_flag  trip_duration  \n",
       "0         40.771164                  N            400  \n",
       "1         40.694931                  N           1100  \n",
       "2         40.774918                  N           1635  \n",
       "3         40.780628                  N           1141  \n",
       "4         40.740631                  N            848  "
      ]
     },
     "execution_count": 4,
     "metadata": {},
     "output_type": "execute_result"
    }
   ],
   "source": [
    "#checking the dataset by examining the top 5 rows\n",
    "data.head()"
   ]
  },
  {
   "cell_type": "code",
   "execution_count": 5,
   "id": "8a448006",
   "metadata": {},
   "outputs": [
    {
     "data": {
      "text/plain": [
       "id                     object\n",
       "vendor_id               int64\n",
       "pickup_datetime        object\n",
       "dropoff_datetime       object\n",
       "passenger_count         int64\n",
       "pickup_longitude      float64\n",
       "pickup_latitude       float64\n",
       "dropoff_longitude     float64\n",
       "dropoff_latitude      float64\n",
       "store_and_fwd_flag     object\n",
       "trip_duration           int64\n",
       "dtype: object"
      ]
     },
     "execution_count": 5,
     "metadata": {},
     "output_type": "execute_result"
    }
   ],
   "source": [
    "#checking the datatypes of all the columns\n",
    "data.dtypes"
   ]
  },
  {
   "cell_type": "code",
   "execution_count": 6,
   "id": "4063bd84",
   "metadata": {},
   "outputs": [],
   "source": [
    "#Trip duration in hours\n",
    "data['trip_duration_hours'] = data['trip_duration'].apply(lambda x : x/3600)"
   ]
  },
  {
   "cell_type": "code",
   "execution_count": 7,
   "id": "8d5ef438",
   "metadata": {},
   "outputs": [
    {
     "data": {
      "text/html": [
       "<div>\n",
       "<style scoped>\n",
       "    .dataframe tbody tr th:only-of-type {\n",
       "        vertical-align: middle;\n",
       "    }\n",
       "\n",
       "    .dataframe tbody tr th {\n",
       "        vertical-align: top;\n",
       "    }\n",
       "\n",
       "    .dataframe thead th {\n",
       "        text-align: right;\n",
       "    }\n",
       "</style>\n",
       "<table border=\"1\" class=\"dataframe\">\n",
       "  <thead>\n",
       "    <tr style=\"text-align: right;\">\n",
       "      <th></th>\n",
       "      <th>id</th>\n",
       "      <th>vendor_id</th>\n",
       "      <th>pickup_datetime</th>\n",
       "      <th>dropoff_datetime</th>\n",
       "      <th>passenger_count</th>\n",
       "      <th>pickup_longitude</th>\n",
       "      <th>pickup_latitude</th>\n",
       "      <th>dropoff_longitude</th>\n",
       "      <th>dropoff_latitude</th>\n",
       "      <th>store_and_fwd_flag</th>\n",
       "      <th>trip_duration</th>\n",
       "      <th>trip_duration_hours</th>\n",
       "    </tr>\n",
       "  </thead>\n",
       "  <tbody>\n",
       "    <tr>\n",
       "      <th>0</th>\n",
       "      <td>id1080784</td>\n",
       "      <td>2</td>\n",
       "      <td>2016-02-29 16:40:21</td>\n",
       "      <td>2016-02-29 16:47:01</td>\n",
       "      <td>1</td>\n",
       "      <td>-73.953918</td>\n",
       "      <td>40.778873</td>\n",
       "      <td>-73.963875</td>\n",
       "      <td>40.771164</td>\n",
       "      <td>N</td>\n",
       "      <td>400</td>\n",
       "      <td>0.111111</td>\n",
       "    </tr>\n",
       "    <tr>\n",
       "      <th>1</th>\n",
       "      <td>id0889885</td>\n",
       "      <td>1</td>\n",
       "      <td>2016-03-11 23:35:37</td>\n",
       "      <td>2016-03-11 23:53:57</td>\n",
       "      <td>2</td>\n",
       "      <td>-73.988312</td>\n",
       "      <td>40.731743</td>\n",
       "      <td>-73.994751</td>\n",
       "      <td>40.694931</td>\n",
       "      <td>N</td>\n",
       "      <td>1100</td>\n",
       "      <td>0.305556</td>\n",
       "    </tr>\n",
       "    <tr>\n",
       "      <th>2</th>\n",
       "      <td>id0857912</td>\n",
       "      <td>2</td>\n",
       "      <td>2016-02-21 17:59:33</td>\n",
       "      <td>2016-02-21 18:26:48</td>\n",
       "      <td>2</td>\n",
       "      <td>-73.997314</td>\n",
       "      <td>40.721458</td>\n",
       "      <td>-73.948029</td>\n",
       "      <td>40.774918</td>\n",
       "      <td>N</td>\n",
       "      <td>1635</td>\n",
       "      <td>0.454167</td>\n",
       "    </tr>\n",
       "    <tr>\n",
       "      <th>3</th>\n",
       "      <td>id3744273</td>\n",
       "      <td>2</td>\n",
       "      <td>2016-01-05 09:44:31</td>\n",
       "      <td>2016-01-05 10:03:32</td>\n",
       "      <td>6</td>\n",
       "      <td>-73.961670</td>\n",
       "      <td>40.759720</td>\n",
       "      <td>-73.956779</td>\n",
       "      <td>40.780628</td>\n",
       "      <td>N</td>\n",
       "      <td>1141</td>\n",
       "      <td>0.316944</td>\n",
       "    </tr>\n",
       "    <tr>\n",
       "      <th>4</th>\n",
       "      <td>id0232939</td>\n",
       "      <td>1</td>\n",
       "      <td>2016-02-17 06:42:23</td>\n",
       "      <td>2016-02-17 06:56:31</td>\n",
       "      <td>1</td>\n",
       "      <td>-74.017120</td>\n",
       "      <td>40.708469</td>\n",
       "      <td>-73.988182</td>\n",
       "      <td>40.740631</td>\n",
       "      <td>N</td>\n",
       "      <td>848</td>\n",
       "      <td>0.235556</td>\n",
       "    </tr>\n",
       "  </tbody>\n",
       "</table>\n",
       "</div>"
      ],
      "text/plain": [
       "          id  vendor_id      pickup_datetime     dropoff_datetime  \\\n",
       "0  id1080784          2  2016-02-29 16:40:21  2016-02-29 16:47:01   \n",
       "1  id0889885          1  2016-03-11 23:35:37  2016-03-11 23:53:57   \n",
       "2  id0857912          2  2016-02-21 17:59:33  2016-02-21 18:26:48   \n",
       "3  id3744273          2  2016-01-05 09:44:31  2016-01-05 10:03:32   \n",
       "4  id0232939          1  2016-02-17 06:42:23  2016-02-17 06:56:31   \n",
       "\n",
       "   passenger_count  pickup_longitude  pickup_latitude  dropoff_longitude  \\\n",
       "0                1        -73.953918        40.778873         -73.963875   \n",
       "1                2        -73.988312        40.731743         -73.994751   \n",
       "2                2        -73.997314        40.721458         -73.948029   \n",
       "3                6        -73.961670        40.759720         -73.956779   \n",
       "4                1        -74.017120        40.708469         -73.988182   \n",
       "\n",
       "   dropoff_latitude store_and_fwd_flag  trip_duration  trip_duration_hours  \n",
       "0         40.771164                  N            400             0.111111  \n",
       "1         40.694931                  N           1100             0.305556  \n",
       "2         40.774918                  N           1635             0.454167  \n",
       "3         40.780628                  N           1141             0.316944  \n",
       "4         40.740631                  N            848             0.235556  "
      ]
     },
     "execution_count": 7,
     "metadata": {},
     "output_type": "execute_result"
    }
   ],
   "source": [
    "data.head()"
   ]
  },
  {
   "cell_type": "code",
   "execution_count": 8,
   "id": "5c4b553d",
   "metadata": {},
   "outputs": [
    {
     "data": {
      "text/plain": [
       "1    517415\n",
       "2    105097\n",
       "5     38926\n",
       "3     29692\n",
       "6     24107\n",
       "4     14050\n",
       "0        33\n",
       "7         1\n",
       "9         1\n",
       "Name: passenger_count, dtype: int64"
      ]
     },
     "execution_count": 8,
     "metadata": {},
     "output_type": "execute_result"
    }
   ],
   "source": [
    "data['passenger_count'].value_counts()"
   ]
  },
  {
   "cell_type": "code",
   "execution_count": 9,
   "id": "9962ead2",
   "metadata": {},
   "outputs": [],
   "source": [
    "# Removing outliers\n",
    "\n",
    "mean = data['passenger_count'].mean()\n",
    "std = data['passenger_count'].std()\n",
    "\n",
    "data['z_score'] = (data['passenger_count']-mean)/std\n",
    "\n",
    "thresh = 4\n",
    "\n",
    "data = data[data['z_score'].abs() < thresh]\n",
    "\n",
    "data=data[data.passenger_count!=0]"
   ]
  },
  {
   "cell_type": "code",
   "execution_count": 10,
   "id": "49429177",
   "metadata": {},
   "outputs": [
    {
     "data": {
      "text/plain": [
       "1    517415\n",
       "2    105097\n",
       "5     38926\n",
       "3     29692\n",
       "6     24107\n",
       "4     14050\n",
       "Name: passenger_count, dtype: int64"
      ]
     },
     "execution_count": 10,
     "metadata": {},
     "output_type": "execute_result"
    }
   ],
   "source": [
    "data['passenger_count'].value_counts()"
   ]
  },
  {
   "cell_type": "markdown",
   "id": "0d4ac03f",
   "metadata": {},
   "source": [
    "## Checking for Null Values"
   ]
  },
  {
   "cell_type": "code",
   "execution_count": 11,
   "id": "72baa738",
   "metadata": {},
   "outputs": [
    {
     "data": {
      "text/plain": [
       "id                     0\n",
       "vendor_id              0\n",
       "pickup_datetime        0\n",
       "dropoff_datetime       0\n",
       "passenger_count        0\n",
       "pickup_longitude       0\n",
       "pickup_latitude        0\n",
       "dropoff_longitude      0\n",
       "dropoff_latitude       0\n",
       "store_and_fwd_flag     0\n",
       "trip_duration          0\n",
       "trip_duration_hours    0\n",
       "z_score                0\n",
       "dtype: int64"
      ]
     },
     "execution_count": 11,
     "metadata": {},
     "output_type": "execute_result"
    }
   ],
   "source": [
    "data.isnull().sum()"
   ]
  },
  {
   "cell_type": "markdown",
   "id": "8e309807",
   "metadata": {},
   "source": [
    "## Evaluation Metrics"
   ]
  },
  {
   "cell_type": "markdown",
   "id": "0ff1a47b",
   "metadata": {},
   "source": [
    "Here the Target variable is continuous in nature hence it is a Regression model. The most commonly used Evaluation metric for Regression problem is RMSE(Root Mean Squared Error) as it makes sure the unit does not change."
   ]
  },
  {
   "cell_type": "markdown",
   "id": "bb864d85",
   "metadata": {},
   "source": [
    "## Benchmark Model"
   ]
  },
  {
   "cell_type": "code",
   "execution_count": 12,
   "id": "8b2e44ce",
   "metadata": {},
   "outputs": [
    {
     "data": {
      "text/html": [
       "<div>\n",
       "<style scoped>\n",
       "    .dataframe tbody tr th:only-of-type {\n",
       "        vertical-align: middle;\n",
       "    }\n",
       "\n",
       "    .dataframe tbody tr th {\n",
       "        vertical-align: top;\n",
       "    }\n",
       "\n",
       "    .dataframe thead th {\n",
       "        text-align: right;\n",
       "    }\n",
       "</style>\n",
       "<table border=\"1\" class=\"dataframe\">\n",
       "  <thead>\n",
       "    <tr style=\"text-align: right;\">\n",
       "      <th></th>\n",
       "      <th>id</th>\n",
       "      <th>vendor_id</th>\n",
       "      <th>pickup_datetime</th>\n",
       "      <th>dropoff_datetime</th>\n",
       "      <th>passenger_count</th>\n",
       "      <th>pickup_longitude</th>\n",
       "      <th>pickup_latitude</th>\n",
       "      <th>dropoff_longitude</th>\n",
       "      <th>dropoff_latitude</th>\n",
       "      <th>store_and_fwd_flag</th>\n",
       "      <th>trip_duration</th>\n",
       "      <th>trip_duration_hours</th>\n",
       "      <th>z_score</th>\n",
       "    </tr>\n",
       "  </thead>\n",
       "  <tbody>\n",
       "    <tr>\n",
       "      <th>0</th>\n",
       "      <td>id1080784</td>\n",
       "      <td>2</td>\n",
       "      <td>2016-02-29 16:40:21</td>\n",
       "      <td>2016-02-29 16:47:01</td>\n",
       "      <td>1</td>\n",
       "      <td>-73.953918</td>\n",
       "      <td>40.778873</td>\n",
       "      <td>-73.963875</td>\n",
       "      <td>40.771164</td>\n",
       "      <td>N</td>\n",
       "      <td>400</td>\n",
       "      <td>0.111111</td>\n",
       "      <td>-0.504443</td>\n",
       "    </tr>\n",
       "    <tr>\n",
       "      <th>1</th>\n",
       "      <td>id0889885</td>\n",
       "      <td>1</td>\n",
       "      <td>2016-03-11 23:35:37</td>\n",
       "      <td>2016-03-11 23:53:57</td>\n",
       "      <td>2</td>\n",
       "      <td>-73.988312</td>\n",
       "      <td>40.731743</td>\n",
       "      <td>-73.994751</td>\n",
       "      <td>40.694931</td>\n",
       "      <td>N</td>\n",
       "      <td>1100</td>\n",
       "      <td>0.305556</td>\n",
       "      <td>0.257493</td>\n",
       "    </tr>\n",
       "    <tr>\n",
       "      <th>2</th>\n",
       "      <td>id0857912</td>\n",
       "      <td>2</td>\n",
       "      <td>2016-02-21 17:59:33</td>\n",
       "      <td>2016-02-21 18:26:48</td>\n",
       "      <td>2</td>\n",
       "      <td>-73.997314</td>\n",
       "      <td>40.721458</td>\n",
       "      <td>-73.948029</td>\n",
       "      <td>40.774918</td>\n",
       "      <td>N</td>\n",
       "      <td>1635</td>\n",
       "      <td>0.454167</td>\n",
       "      <td>0.257493</td>\n",
       "    </tr>\n",
       "    <tr>\n",
       "      <th>3</th>\n",
       "      <td>id3744273</td>\n",
       "      <td>2</td>\n",
       "      <td>2016-01-05 09:44:31</td>\n",
       "      <td>2016-01-05 10:03:32</td>\n",
       "      <td>6</td>\n",
       "      <td>-73.961670</td>\n",
       "      <td>40.759720</td>\n",
       "      <td>-73.956779</td>\n",
       "      <td>40.780628</td>\n",
       "      <td>N</td>\n",
       "      <td>1141</td>\n",
       "      <td>0.316944</td>\n",
       "      <td>3.305238</td>\n",
       "    </tr>\n",
       "    <tr>\n",
       "      <th>4</th>\n",
       "      <td>id0232939</td>\n",
       "      <td>1</td>\n",
       "      <td>2016-02-17 06:42:23</td>\n",
       "      <td>2016-02-17 06:56:31</td>\n",
       "      <td>1</td>\n",
       "      <td>-74.017120</td>\n",
       "      <td>40.708469</td>\n",
       "      <td>-73.988182</td>\n",
       "      <td>40.740631</td>\n",
       "      <td>N</td>\n",
       "      <td>848</td>\n",
       "      <td>0.235556</td>\n",
       "      <td>-0.504443</td>\n",
       "    </tr>\n",
       "  </tbody>\n",
       "</table>\n",
       "</div>"
      ],
      "text/plain": [
       "          id  vendor_id      pickup_datetime     dropoff_datetime  \\\n",
       "0  id1080784          2  2016-02-29 16:40:21  2016-02-29 16:47:01   \n",
       "1  id0889885          1  2016-03-11 23:35:37  2016-03-11 23:53:57   \n",
       "2  id0857912          2  2016-02-21 17:59:33  2016-02-21 18:26:48   \n",
       "3  id3744273          2  2016-01-05 09:44:31  2016-01-05 10:03:32   \n",
       "4  id0232939          1  2016-02-17 06:42:23  2016-02-17 06:56:31   \n",
       "\n",
       "   passenger_count  pickup_longitude  pickup_latitude  dropoff_longitude  \\\n",
       "0                1        -73.953918        40.778873         -73.963875   \n",
       "1                2        -73.988312        40.731743         -73.994751   \n",
       "2                2        -73.997314        40.721458         -73.948029   \n",
       "3                6        -73.961670        40.759720         -73.956779   \n",
       "4                1        -74.017120        40.708469         -73.988182   \n",
       "\n",
       "   dropoff_latitude store_and_fwd_flag  trip_duration  trip_duration_hours  \\\n",
       "0         40.771164                  N            400             0.111111   \n",
       "1         40.694931                  N           1100             0.305556   \n",
       "2         40.774918                  N           1635             0.454167   \n",
       "3         40.780628                  N           1141             0.316944   \n",
       "4         40.740631                  N            848             0.235556   \n",
       "\n",
       "    z_score  \n",
       "0 -0.504443  \n",
       "1  0.257493  \n",
       "2  0.257493  \n",
       "3  3.305238  \n",
       "4 -0.504443  "
      ]
     },
     "execution_count": 12,
     "metadata": {},
     "output_type": "execute_result"
    }
   ],
   "source": [
    "bench_data = data\n",
    "bench_data.head()"
   ]
  },
  {
   "cell_type": "code",
   "execution_count": 13,
   "id": "9be9cf38",
   "metadata": {},
   "outputs": [
    {
     "data": {
      "text/plain": [
       "0    0.264515\n",
       "1    0.264515\n",
       "2    0.264515\n",
       "3    0.264515\n",
       "4    0.264515\n",
       "Name: simple_mean, dtype: float64"
      ]
     },
     "execution_count": 13,
     "metadata": {},
     "output_type": "execute_result"
    }
   ],
   "source": [
    "# Storing simple mean in a new column \n",
    "bench_data['simple_mean'] = bench_data['trip_duration_hours'].mean() \n",
    "bench_data['simple_mean'].head()"
   ]
  },
  {
   "cell_type": "code",
   "execution_count": 14,
   "id": "d9fa383a",
   "metadata": {},
   "outputs": [],
   "source": [
    "# importing shuffle from sklearn\n",
    "from sklearn.utils import shuffle"
   ]
  },
  {
   "cell_type": "code",
   "execution_count": 15,
   "id": "d74d69f4",
   "metadata": {},
   "outputs": [],
   "source": [
    "# Shuffling and creating train and test set\n",
    "\n",
    "bench_data = shuffle(bench_data,random_state = 92)\n",
    "\n",
    "# Creating 4 divisions\n",
    "div = int(bench_data.shape[0]/4)\n",
    "\n",
    "# 3 parts to train set and 1 part to test set\n",
    "train = bench_data.loc[:3*div+1,:]\n",
    "test = bench_data.loc[3*div+1:]"
   ]
  },
  {
   "cell_type": "code",
   "execution_count": 16,
   "id": "3fffe016",
   "metadata": {},
   "outputs": [
    {
     "data": {
      "text/plain": [
       "0.8381327484275816"
      ]
     },
     "execution_count": 16,
     "metadata": {},
     "output_type": "execute_result"
    }
   ],
   "source": [
    "# Calculating root mean squared error\n",
    "from sklearn.metrics import mean_squared_error as MSE\n",
    "from math import sqrt\n",
    "\n",
    "simple_mean_error = sqrt(MSE(test['trip_duration_hours'],test['simple_mean']))\n",
    "simple_mean_error"
   ]
  },
  {
   "cell_type": "code",
   "execution_count": 17,
   "id": "d4dcd6ec",
   "metadata": {},
   "outputs": [
    {
     "data": {
      "text/html": [
       "<div>\n",
       "<style scoped>\n",
       "    .dataframe tbody tr th:only-of-type {\n",
       "        vertical-align: middle;\n",
       "    }\n",
       "\n",
       "    .dataframe tbody tr th {\n",
       "        vertical-align: top;\n",
       "    }\n",
       "\n",
       "    .dataframe thead th {\n",
       "        text-align: right;\n",
       "    }\n",
       "</style>\n",
       "<table border=\"1\" class=\"dataframe\">\n",
       "  <thead>\n",
       "    <tr style=\"text-align: right;\">\n",
       "      <th></th>\n",
       "      <th>trip_duration_hours</th>\n",
       "    </tr>\n",
       "    <tr>\n",
       "      <th>passenger_count</th>\n",
       "      <th></th>\n",
       "    </tr>\n",
       "  </thead>\n",
       "  <tbody>\n",
       "    <tr>\n",
       "      <th>1</th>\n",
       "      <td>0.259248</td>\n",
       "    </tr>\n",
       "    <tr>\n",
       "      <th>2</th>\n",
       "      <td>0.279963</td>\n",
       "    </tr>\n",
       "    <tr>\n",
       "      <th>3</th>\n",
       "      <td>0.284530</td>\n",
       "    </tr>\n",
       "    <tr>\n",
       "      <th>4</th>\n",
       "      <td>0.286704</td>\n",
       "    </tr>\n",
       "    <tr>\n",
       "      <th>5</th>\n",
       "      <td>0.304356</td>\n",
       "    </tr>\n",
       "    <tr>\n",
       "      <th>6</th>\n",
       "      <td>0.293813</td>\n",
       "    </tr>\n",
       "  </tbody>\n",
       "</table>\n",
       "</div>"
      ],
      "text/plain": [
       "                 trip_duration_hours\n",
       "passenger_count                     \n",
       "1                           0.259248\n",
       "2                           0.279963\n",
       "3                           0.284530\n",
       "4                           0.286704\n",
       "5                           0.304356\n",
       "6                           0.293813"
      ]
     },
     "execution_count": 17,
     "metadata": {},
     "output_type": "execute_result"
    }
   ],
   "source": [
    "# Mean by passenger_count to reduce error\n",
    "pd.pivot_table(train,values = 'trip_duration_hours', index = ['passenger_count'], aggfunc = np.mean)"
   ]
  },
  {
   "cell_type": "code",
   "execution_count": 18,
   "id": "4f09678e",
   "metadata": {},
   "outputs": [],
   "source": [
    "# initializing new column\n",
    "test['passen_count_mean'] = 0\n",
    "\n",
    "#For every unique entry\n",
    "for i in train['passenger_count'].unique():\n",
    "    # Assign the mean value corresponding to the entry\n",
    "    test['passen_count_mean'][test['passenger_count'] == str(i)] = train['trip_duration_hours'][train['passenger_count'] == str(i)].mean()"
   ]
  },
  {
   "cell_type": "code",
   "execution_count": 19,
   "id": "bffd0561",
   "metadata": {},
   "outputs": [
    {
     "data": {
      "text/plain": [
       "0.8779464516234601"
      ]
     },
     "execution_count": 19,
     "metadata": {},
     "output_type": "execute_result"
    }
   ],
   "source": [
    "# Calculating root mean squared error\n",
    "\n",
    "passen_count_error = sqrt(MSE(test['trip_duration_hours'],test['passen_count_mean']))\n",
    "passen_count_error"
   ]
  },
  {
   "cell_type": "code",
   "execution_count": 20,
   "id": "fe1cad88",
   "metadata": {},
   "outputs": [
    {
     "data": {
      "text/html": [
       "<div>\n",
       "<style scoped>\n",
       "    .dataframe tbody tr th:only-of-type {\n",
       "        vertical-align: middle;\n",
       "    }\n",
       "\n",
       "    .dataframe tbody tr th {\n",
       "        vertical-align: top;\n",
       "    }\n",
       "\n",
       "    .dataframe thead th {\n",
       "        text-align: right;\n",
       "    }\n",
       "</style>\n",
       "<table border=\"1\" class=\"dataframe\">\n",
       "  <thead>\n",
       "    <tr style=\"text-align: right;\">\n",
       "      <th></th>\n",
       "      <th>trip_duration_hours</th>\n",
       "    </tr>\n",
       "    <tr>\n",
       "      <th>vendor_id</th>\n",
       "      <th></th>\n",
       "    </tr>\n",
       "  </thead>\n",
       "  <tbody>\n",
       "    <tr>\n",
       "      <th>1</th>\n",
       "      <td>0.233965</td>\n",
       "    </tr>\n",
       "    <tr>\n",
       "      <th>2</th>\n",
       "      <td>0.296296</td>\n",
       "    </tr>\n",
       "  </tbody>\n",
       "</table>\n",
       "</div>"
      ],
      "text/plain": [
       "           trip_duration_hours\n",
       "vendor_id                     \n",
       "1                     0.233965\n",
       "2                     0.296296"
      ]
     },
     "execution_count": 20,
     "metadata": {},
     "output_type": "execute_result"
    }
   ],
   "source": [
    "# Mean by vendor_id to reduce the error\n",
    "\n",
    "pd.pivot_table(train, values ='trip_duration_hours', index = ['vendor_id'], aggfunc = np.mean)"
   ]
  },
  {
   "cell_type": "code",
   "execution_count": 21,
   "id": "226a6f5c",
   "metadata": {},
   "outputs": [],
   "source": [
    "# initializing new column\n",
    "test['vendor_id_mean'] = 0\n",
    "\n",
    "#For every unique entry\n",
    "for i in train['vendor_id'].unique():\n",
    "    # Assign the mean value corresponding to the entry\n",
    "    test['vendor_id_mean'][test['vendor_id'] == str(i)] = train['trip_duration_hours'][train['vendor_id'] == str(i)].mean()"
   ]
  },
  {
   "cell_type": "code",
   "execution_count": 22,
   "id": "f425faaa",
   "metadata": {},
   "outputs": [
    {
     "data": {
      "text/plain": [
       "0.8779464516234601"
      ]
     },
     "execution_count": 22,
     "metadata": {},
     "output_type": "execute_result"
    }
   ],
   "source": [
    "# Calculating root mean squared error\n",
    "\n",
    "vendor_id_error = np.sqrt(MSE(test['trip_duration_hours'],test['vendor_id_mean']))\n",
    "vendor_id_error"
   ]
  },
  {
   "cell_type": "code",
   "execution_count": 23,
   "id": "d540b658",
   "metadata": {},
   "outputs": [
    {
     "data": {
      "text/html": [
       "<div>\n",
       "<style scoped>\n",
       "    .dataframe tbody tr th:only-of-type {\n",
       "        vertical-align: middle;\n",
       "    }\n",
       "\n",
       "    .dataframe tbody tr th {\n",
       "        vertical-align: top;\n",
       "    }\n",
       "\n",
       "    .dataframe thead th {\n",
       "        text-align: right;\n",
       "    }\n",
       "</style>\n",
       "<table border=\"1\" class=\"dataframe\">\n",
       "  <thead>\n",
       "    <tr style=\"text-align: right;\">\n",
       "      <th></th>\n",
       "      <th></th>\n",
       "      <th>trip_duration_hours</th>\n",
       "    </tr>\n",
       "    <tr>\n",
       "      <th>vendor_id</th>\n",
       "      <th>passenger_count</th>\n",
       "      <th></th>\n",
       "    </tr>\n",
       "  </thead>\n",
       "  <tbody>\n",
       "    <tr>\n",
       "      <th rowspan=\"6\" valign=\"top\">1</th>\n",
       "      <th>1</th>\n",
       "      <td>0.228101</td>\n",
       "    </tr>\n",
       "    <tr>\n",
       "      <th>2</th>\n",
       "      <td>0.257770</td>\n",
       "    </tr>\n",
       "    <tr>\n",
       "      <th>3</th>\n",
       "      <td>0.259417</td>\n",
       "    </tr>\n",
       "    <tr>\n",
       "      <th>4</th>\n",
       "      <td>0.271155</td>\n",
       "    </tr>\n",
       "    <tr>\n",
       "      <th>5</th>\n",
       "      <td>0.280703</td>\n",
       "    </tr>\n",
       "    <tr>\n",
       "      <th>6</th>\n",
       "      <td>0.295503</td>\n",
       "    </tr>\n",
       "    <tr>\n",
       "      <th rowspan=\"6\" valign=\"top\">2</th>\n",
       "      <th>1</th>\n",
       "      <td>0.294643</td>\n",
       "    </tr>\n",
       "    <tr>\n",
       "      <th>2</th>\n",
       "      <td>0.297304</td>\n",
       "    </tr>\n",
       "    <tr>\n",
       "      <th>3</th>\n",
       "      <td>0.300028</td>\n",
       "    </tr>\n",
       "    <tr>\n",
       "      <th>4</th>\n",
       "      <td>0.298240</td>\n",
       "    </tr>\n",
       "    <tr>\n",
       "      <th>5</th>\n",
       "      <td>0.304452</td>\n",
       "    </tr>\n",
       "    <tr>\n",
       "      <th>6</th>\n",
       "      <td>0.293809</td>\n",
       "    </tr>\n",
       "  </tbody>\n",
       "</table>\n",
       "</div>"
      ],
      "text/plain": [
       "                           trip_duration_hours\n",
       "vendor_id passenger_count                     \n",
       "1         1                           0.228101\n",
       "          2                           0.257770\n",
       "          3                           0.259417\n",
       "          4                           0.271155\n",
       "          5                           0.280703\n",
       "          6                           0.295503\n",
       "2         1                           0.294643\n",
       "          2                           0.297304\n",
       "          3                           0.300028\n",
       "          4                           0.298240\n",
       "          5                           0.304452\n",
       "          6                           0.293809"
      ]
     },
     "execution_count": 23,
     "metadata": {},
     "output_type": "execute_result"
    }
   ],
   "source": [
    "# Mean by vendor_id and passenger_count to reduce the error\n",
    "\n",
    "pd.pivot_table(train, values ='trip_duration_hours', index = ['vendor_id','passenger_count'], aggfunc = np.mean)"
   ]
  },
  {
   "cell_type": "code",
   "execution_count": 24,
   "id": "a58b2f54",
   "metadata": {},
   "outputs": [],
   "source": [
    "test['super_mean'] = 0\n",
    "\n",
    "s1 = 'vendor_id'\n",
    "s2 = 'passenger_count'\n",
    "\n",
    "for i in test[s1].unique():\n",
    "    for j in test[s2].unique():\n",
    "        test['super_mean'][(test[s1]==str(i)) & (test[s2]==str(j))] = train['trip_duration_hours'][(train[s1]==str(i)) & (train[s2]==str(j))].mean()\n",
    "        "
   ]
  },
  {
   "cell_type": "code",
   "execution_count": 25,
   "id": "52238ec1",
   "metadata": {},
   "outputs": [
    {
     "data": {
      "text/plain": [
       "0.8779464516234601"
      ]
     },
     "execution_count": 25,
     "metadata": {},
     "output_type": "execute_result"
    }
   ],
   "source": [
    "super_mean_error = sqrt(MSE(test['trip_duration_hours'],test['super_mean']))\n",
    "super_mean_error"
   ]
  },
  {
   "cell_type": "markdown",
   "id": "81c7a59c",
   "metadata": {},
   "source": [
    "*  The Root Mean Square error (RMSE) for the simple mean is 0.83813.\n",
    "*  The RMSE for passenger count and vendor id is slightly higher which came out to be 0.87794."
   ]
  },
  {
   "cell_type": "markdown",
   "id": "2aa88808",
   "metadata": {},
   "source": [
    "## KNN Model"
   ]
  },
  {
   "cell_type": "code",
   "execution_count": 26,
   "id": "94050348",
   "metadata": {},
   "outputs": [],
   "source": [
    "sample_data = data.sample(100000)"
   ]
  },
  {
   "cell_type": "code",
   "execution_count": 27,
   "id": "39e995db",
   "metadata": {},
   "outputs": [
    {
     "data": {
      "text/plain": [
       "id                      object\n",
       "vendor_id                int64\n",
       "pickup_datetime         object\n",
       "dropoff_datetime        object\n",
       "passenger_count          int64\n",
       "pickup_longitude       float64\n",
       "pickup_latitude        float64\n",
       "dropoff_longitude      float64\n",
       "dropoff_latitude       float64\n",
       "store_and_fwd_flag      object\n",
       "trip_duration            int64\n",
       "trip_duration_hours    float64\n",
       "z_score                float64\n",
       "simple_mean            float64\n",
       "dtype: object"
      ]
     },
     "execution_count": 27,
     "metadata": {},
     "output_type": "execute_result"
    }
   ],
   "source": [
    "sample_data.dtypes"
   ]
  },
  {
   "cell_type": "code",
   "execution_count": 28,
   "id": "1fda3d8e",
   "metadata": {},
   "outputs": [
    {
     "data": {
      "text/html": [
       "<div>\n",
       "<style scoped>\n",
       "    .dataframe tbody tr th:only-of-type {\n",
       "        vertical-align: middle;\n",
       "    }\n",
       "\n",
       "    .dataframe tbody tr th {\n",
       "        vertical-align: top;\n",
       "    }\n",
       "\n",
       "    .dataframe thead th {\n",
       "        text-align: right;\n",
       "    }\n",
       "</style>\n",
       "<table border=\"1\" class=\"dataframe\">\n",
       "  <thead>\n",
       "    <tr style=\"text-align: right;\">\n",
       "      <th></th>\n",
       "      <th>id</th>\n",
       "      <th>vendor_id</th>\n",
       "      <th>pickup_datetime</th>\n",
       "      <th>dropoff_datetime</th>\n",
       "      <th>passenger_count</th>\n",
       "      <th>pickup_longitude</th>\n",
       "      <th>pickup_latitude</th>\n",
       "      <th>dropoff_longitude</th>\n",
       "      <th>dropoff_latitude</th>\n",
       "      <th>store_and_fwd_flag</th>\n",
       "      <th>trip_duration</th>\n",
       "      <th>trip_duration_hours</th>\n",
       "      <th>z_score</th>\n",
       "      <th>simple_mean</th>\n",
       "      <th>passenger_count_1</th>\n",
       "      <th>passenger_count_2</th>\n",
       "      <th>passenger_count_3</th>\n",
       "      <th>passenger_count_4</th>\n",
       "      <th>passenger_count_5</th>\n",
       "      <th>passenger_count_6</th>\n",
       "    </tr>\n",
       "  </thead>\n",
       "  <tbody>\n",
       "    <tr>\n",
       "      <th>109900</th>\n",
       "      <td>id1464947</td>\n",
       "      <td>1</td>\n",
       "      <td>2016-03-02 15:58:20</td>\n",
       "      <td>2016-03-02 16:13:39</td>\n",
       "      <td>1</td>\n",
       "      <td>-73.961990</td>\n",
       "      <td>40.800743</td>\n",
       "      <td>-73.941673</td>\n",
       "      <td>40.843407</td>\n",
       "      <td>N</td>\n",
       "      <td>919</td>\n",
       "      <td>0.255278</td>\n",
       "      <td>-0.504443</td>\n",
       "      <td>0.264515</td>\n",
       "      <td>1</td>\n",
       "      <td>0</td>\n",
       "      <td>0</td>\n",
       "      <td>0</td>\n",
       "      <td>0</td>\n",
       "      <td>0</td>\n",
       "    </tr>\n",
       "    <tr>\n",
       "      <th>422826</th>\n",
       "      <td>id0168623</td>\n",
       "      <td>2</td>\n",
       "      <td>2016-04-24 01:24:11</td>\n",
       "      <td>2016-04-24 01:34:04</td>\n",
       "      <td>1</td>\n",
       "      <td>-73.987541</td>\n",
       "      <td>40.720112</td>\n",
       "      <td>-73.982407</td>\n",
       "      <td>40.735432</td>\n",
       "      <td>N</td>\n",
       "      <td>593</td>\n",
       "      <td>0.164722</td>\n",
       "      <td>-0.504443</td>\n",
       "      <td>0.264515</td>\n",
       "      <td>1</td>\n",
       "      <td>0</td>\n",
       "      <td>0</td>\n",
       "      <td>0</td>\n",
       "      <td>0</td>\n",
       "      <td>0</td>\n",
       "    </tr>\n",
       "    <tr>\n",
       "      <th>639792</th>\n",
       "      <td>id2548616</td>\n",
       "      <td>1</td>\n",
       "      <td>2016-06-18 00:59:40</td>\n",
       "      <td>2016-06-18 01:47:18</td>\n",
       "      <td>4</td>\n",
       "      <td>-73.983910</td>\n",
       "      <td>40.721645</td>\n",
       "      <td>-73.976341</td>\n",
       "      <td>40.785683</td>\n",
       "      <td>N</td>\n",
       "      <td>2858</td>\n",
       "      <td>0.793889</td>\n",
       "      <td>1.781366</td>\n",
       "      <td>0.264515</td>\n",
       "      <td>0</td>\n",
       "      <td>0</td>\n",
       "      <td>0</td>\n",
       "      <td>1</td>\n",
       "      <td>0</td>\n",
       "      <td>0</td>\n",
       "    </tr>\n",
       "    <tr>\n",
       "      <th>230145</th>\n",
       "      <td>id0945231</td>\n",
       "      <td>2</td>\n",
       "      <td>2016-04-18 15:44:01</td>\n",
       "      <td>2016-04-18 15:47:09</td>\n",
       "      <td>1</td>\n",
       "      <td>-73.975052</td>\n",
       "      <td>40.745998</td>\n",
       "      <td>-73.979347</td>\n",
       "      <td>40.744377</td>\n",
       "      <td>N</td>\n",
       "      <td>188</td>\n",
       "      <td>0.052222</td>\n",
       "      <td>-0.504443</td>\n",
       "      <td>0.264515</td>\n",
       "      <td>1</td>\n",
       "      <td>0</td>\n",
       "      <td>0</td>\n",
       "      <td>0</td>\n",
       "      <td>0</td>\n",
       "      <td>0</td>\n",
       "    </tr>\n",
       "    <tr>\n",
       "      <th>266042</th>\n",
       "      <td>id1349451</td>\n",
       "      <td>2</td>\n",
       "      <td>2016-05-11 14:42:42</td>\n",
       "      <td>2016-05-11 14:51:38</td>\n",
       "      <td>1</td>\n",
       "      <td>-73.954102</td>\n",
       "      <td>40.774731</td>\n",
       "      <td>-73.967491</td>\n",
       "      <td>40.763199</td>\n",
       "      <td>N</td>\n",
       "      <td>536</td>\n",
       "      <td>0.148889</td>\n",
       "      <td>-0.504443</td>\n",
       "      <td>0.264515</td>\n",
       "      <td>1</td>\n",
       "      <td>0</td>\n",
       "      <td>0</td>\n",
       "      <td>0</td>\n",
       "      <td>0</td>\n",
       "      <td>0</td>\n",
       "    </tr>\n",
       "  </tbody>\n",
       "</table>\n",
       "</div>"
      ],
      "text/plain": [
       "               id  vendor_id      pickup_datetime     dropoff_datetime  \\\n",
       "109900  id1464947          1  2016-03-02 15:58:20  2016-03-02 16:13:39   \n",
       "422826  id0168623          2  2016-04-24 01:24:11  2016-04-24 01:34:04   \n",
       "639792  id2548616          1  2016-06-18 00:59:40  2016-06-18 01:47:18   \n",
       "230145  id0945231          2  2016-04-18 15:44:01  2016-04-18 15:47:09   \n",
       "266042  id1349451          2  2016-05-11 14:42:42  2016-05-11 14:51:38   \n",
       "\n",
       "        passenger_count  pickup_longitude  pickup_latitude  dropoff_longitude  \\\n",
       "109900                1        -73.961990        40.800743         -73.941673   \n",
       "422826                1        -73.987541        40.720112         -73.982407   \n",
       "639792                4        -73.983910        40.721645         -73.976341   \n",
       "230145                1        -73.975052        40.745998         -73.979347   \n",
       "266042                1        -73.954102        40.774731         -73.967491   \n",
       "\n",
       "        dropoff_latitude store_and_fwd_flag  trip_duration  \\\n",
       "109900         40.843407                  N            919   \n",
       "422826         40.735432                  N            593   \n",
       "639792         40.785683                  N           2858   \n",
       "230145         40.744377                  N            188   \n",
       "266042         40.763199                  N            536   \n",
       "\n",
       "        trip_duration_hours   z_score  simple_mean  passenger_count_1  \\\n",
       "109900             0.255278 -0.504443     0.264515                  1   \n",
       "422826             0.164722 -0.504443     0.264515                  1   \n",
       "639792             0.793889  1.781366     0.264515                  0   \n",
       "230145             0.052222 -0.504443     0.264515                  1   \n",
       "266042             0.148889 -0.504443     0.264515                  1   \n",
       "\n",
       "        passenger_count_2  passenger_count_3  passenger_count_4  \\\n",
       "109900                  0                  0                  0   \n",
       "422826                  0                  0                  0   \n",
       "639792                  0                  0                  1   \n",
       "230145                  0                  0                  0   \n",
       "266042                  0                  0                  0   \n",
       "\n",
       "        passenger_count_5  passenger_count_6  \n",
       "109900                  0                  0  \n",
       "422826                  0                  0  \n",
       "639792                  0                  0  \n",
       "230145                  0                  0  \n",
       "266042                  0                  0  "
      ]
     },
     "execution_count": 28,
     "metadata": {},
     "output_type": "execute_result"
    }
   ],
   "source": [
    "# one hot encoding\n",
    "Filtered_data= pd.concat([sample_data, pd.get_dummies(sample_data[['passenger_count']].astype('str'))], axis=1)\n",
    "Filtered_data.head()"
   ]
  },
  {
   "cell_type": "code",
   "execution_count": 29,
   "id": "71fc4d7f",
   "metadata": {},
   "outputs": [
    {
     "data": {
      "text/html": [
       "<div>\n",
       "<style scoped>\n",
       "    .dataframe tbody tr th:only-of-type {\n",
       "        vertical-align: middle;\n",
       "    }\n",
       "\n",
       "    .dataframe tbody tr th {\n",
       "        vertical-align: top;\n",
       "    }\n",
       "\n",
       "    .dataframe thead th {\n",
       "        text-align: right;\n",
       "    }\n",
       "</style>\n",
       "<table border=\"1\" class=\"dataframe\">\n",
       "  <thead>\n",
       "    <tr style=\"text-align: right;\">\n",
       "      <th></th>\n",
       "      <th>pickup_longitude</th>\n",
       "      <th>pickup_latitude</th>\n",
       "      <th>dropoff_longitude</th>\n",
       "      <th>dropoff_latitude</th>\n",
       "      <th>simple_mean</th>\n",
       "      <th>passenger_count_1</th>\n",
       "      <th>passenger_count_2</th>\n",
       "      <th>passenger_count_3</th>\n",
       "      <th>passenger_count_4</th>\n",
       "      <th>passenger_count_5</th>\n",
       "      <th>passenger_count_6</th>\n",
       "    </tr>\n",
       "  </thead>\n",
       "  <tbody>\n",
       "    <tr>\n",
       "      <th>109900</th>\n",
       "      <td>-73.961990</td>\n",
       "      <td>40.800743</td>\n",
       "      <td>-73.941673</td>\n",
       "      <td>40.843407</td>\n",
       "      <td>0.264515</td>\n",
       "      <td>1</td>\n",
       "      <td>0</td>\n",
       "      <td>0</td>\n",
       "      <td>0</td>\n",
       "      <td>0</td>\n",
       "      <td>0</td>\n",
       "    </tr>\n",
       "    <tr>\n",
       "      <th>422826</th>\n",
       "      <td>-73.987541</td>\n",
       "      <td>40.720112</td>\n",
       "      <td>-73.982407</td>\n",
       "      <td>40.735432</td>\n",
       "      <td>0.264515</td>\n",
       "      <td>1</td>\n",
       "      <td>0</td>\n",
       "      <td>0</td>\n",
       "      <td>0</td>\n",
       "      <td>0</td>\n",
       "      <td>0</td>\n",
       "    </tr>\n",
       "    <tr>\n",
       "      <th>639792</th>\n",
       "      <td>-73.983910</td>\n",
       "      <td>40.721645</td>\n",
       "      <td>-73.976341</td>\n",
       "      <td>40.785683</td>\n",
       "      <td>0.264515</td>\n",
       "      <td>0</td>\n",
       "      <td>0</td>\n",
       "      <td>0</td>\n",
       "      <td>1</td>\n",
       "      <td>0</td>\n",
       "      <td>0</td>\n",
       "    </tr>\n",
       "    <tr>\n",
       "      <th>230145</th>\n",
       "      <td>-73.975052</td>\n",
       "      <td>40.745998</td>\n",
       "      <td>-73.979347</td>\n",
       "      <td>40.744377</td>\n",
       "      <td>0.264515</td>\n",
       "      <td>1</td>\n",
       "      <td>0</td>\n",
       "      <td>0</td>\n",
       "      <td>0</td>\n",
       "      <td>0</td>\n",
       "      <td>0</td>\n",
       "    </tr>\n",
       "    <tr>\n",
       "      <th>266042</th>\n",
       "      <td>-73.954102</td>\n",
       "      <td>40.774731</td>\n",
       "      <td>-73.967491</td>\n",
       "      <td>40.763199</td>\n",
       "      <td>0.264515</td>\n",
       "      <td>1</td>\n",
       "      <td>0</td>\n",
       "      <td>0</td>\n",
       "      <td>0</td>\n",
       "      <td>0</td>\n",
       "      <td>0</td>\n",
       "    </tr>\n",
       "  </tbody>\n",
       "</table>\n",
       "</div>"
      ],
      "text/plain": [
       "        pickup_longitude  pickup_latitude  dropoff_longitude  \\\n",
       "109900        -73.961990        40.800743         -73.941673   \n",
       "422826        -73.987541        40.720112         -73.982407   \n",
       "639792        -73.983910        40.721645         -73.976341   \n",
       "230145        -73.975052        40.745998         -73.979347   \n",
       "266042        -73.954102        40.774731         -73.967491   \n",
       "\n",
       "        dropoff_latitude  simple_mean  passenger_count_1  passenger_count_2  \\\n",
       "109900         40.843407     0.264515                  1                  0   \n",
       "422826         40.735432     0.264515                  1                  0   \n",
       "639792         40.785683     0.264515                  0                  0   \n",
       "230145         40.744377     0.264515                  1                  0   \n",
       "266042         40.763199     0.264515                  1                  0   \n",
       "\n",
       "        passenger_count_3  passenger_count_4  passenger_count_5  \\\n",
       "109900                  0                  0                  0   \n",
       "422826                  0                  0                  0   \n",
       "639792                  0                  1                  0   \n",
       "230145                  0                  0                  0   \n",
       "266042                  0                  0                  0   \n",
       "\n",
       "        passenger_count_6  \n",
       "109900                  0  \n",
       "422826                  0  \n",
       "639792                  0  \n",
       "230145                  0  \n",
       "266042                  0  "
      ]
     },
     "execution_count": 29,
     "metadata": {},
     "output_type": "execute_result"
    }
   ],
   "source": [
    "Filtered_data=Filtered_data.drop(['id','vendor_id','trip_duration_hours','pickup_datetime','dropoff_datetime','store_and_fwd_flag','passenger_count','trip_duration','z_score'],axis=1)\n",
    "Filtered_data.head()"
   ]
  },
  {
   "cell_type": "code",
   "execution_count": 30,
   "id": "4493e8d2",
   "metadata": {},
   "outputs": [
    {
     "data": {
      "text/plain": [
       "((100000, 11), (100000,))"
      ]
     },
     "execution_count": 30,
     "metadata": {},
     "output_type": "execute_result"
    }
   ],
   "source": [
    "# Separating independent and dependent variables\n",
    "\n",
    "x = Filtered_data\n",
    "y = sample_data['trip_duration_hours']\n",
    "x.shape,y.shape"
   ]
  },
  {
   "cell_type": "code",
   "execution_count": 31,
   "id": "f70082b8",
   "metadata": {},
   "outputs": [
    {
     "data": {
      "text/html": [
       "<div>\n",
       "<style scoped>\n",
       "    .dataframe tbody tr th:only-of-type {\n",
       "        vertical-align: middle;\n",
       "    }\n",
       "\n",
       "    .dataframe tbody tr th {\n",
       "        vertical-align: top;\n",
       "    }\n",
       "\n",
       "    .dataframe thead th {\n",
       "        text-align: right;\n",
       "    }\n",
       "</style>\n",
       "<table border=\"1\" class=\"dataframe\">\n",
       "  <thead>\n",
       "    <tr style=\"text-align: right;\">\n",
       "      <th></th>\n",
       "      <th>pickup_longitude</th>\n",
       "      <th>pickup_latitude</th>\n",
       "      <th>dropoff_longitude</th>\n",
       "      <th>dropoff_latitude</th>\n",
       "      <th>simple_mean</th>\n",
       "      <th>passenger_count_1</th>\n",
       "      <th>passenger_count_2</th>\n",
       "      <th>passenger_count_3</th>\n",
       "      <th>passenger_count_4</th>\n",
       "      <th>passenger_count_5</th>\n",
       "      <th>passenger_count_6</th>\n",
       "    </tr>\n",
       "  </thead>\n",
       "  <tbody>\n",
       "    <tr>\n",
       "      <th>0</th>\n",
       "      <td>0.086612</td>\n",
       "      <td>0.732077</td>\n",
       "      <td>0.082304</td>\n",
       "      <td>0.755336</td>\n",
       "      <td>0.0</td>\n",
       "      <td>1.0</td>\n",
       "      <td>0.0</td>\n",
       "      <td>0.0</td>\n",
       "      <td>0.0</td>\n",
       "      <td>0.0</td>\n",
       "      <td>0.0</td>\n",
       "    </tr>\n",
       "    <tr>\n",
       "      <th>1</th>\n",
       "      <td>0.083718</td>\n",
       "      <td>0.688120</td>\n",
       "      <td>0.077657</td>\n",
       "      <td>0.696472</td>\n",
       "      <td>0.0</td>\n",
       "      <td>1.0</td>\n",
       "      <td>0.0</td>\n",
       "      <td>0.0</td>\n",
       "      <td>0.0</td>\n",
       "      <td>0.0</td>\n",
       "      <td>0.0</td>\n",
       "    </tr>\n",
       "    <tr>\n",
       "      <th>2</th>\n",
       "      <td>0.084129</td>\n",
       "      <td>0.688956</td>\n",
       "      <td>0.078349</td>\n",
       "      <td>0.723867</td>\n",
       "      <td>0.0</td>\n",
       "      <td>0.0</td>\n",
       "      <td>0.0</td>\n",
       "      <td>0.0</td>\n",
       "      <td>1.0</td>\n",
       "      <td>0.0</td>\n",
       "      <td>0.0</td>\n",
       "    </tr>\n",
       "    <tr>\n",
       "      <th>3</th>\n",
       "      <td>0.085133</td>\n",
       "      <td>0.702232</td>\n",
       "      <td>0.078006</td>\n",
       "      <td>0.701349</td>\n",
       "      <td>0.0</td>\n",
       "      <td>1.0</td>\n",
       "      <td>0.0</td>\n",
       "      <td>0.0</td>\n",
       "      <td>0.0</td>\n",
       "      <td>0.0</td>\n",
       "      <td>0.0</td>\n",
       "    </tr>\n",
       "    <tr>\n",
       "      <th>4</th>\n",
       "      <td>0.087505</td>\n",
       "      <td>0.717896</td>\n",
       "      <td>0.079359</td>\n",
       "      <td>0.711610</td>\n",
       "      <td>0.0</td>\n",
       "      <td>1.0</td>\n",
       "      <td>0.0</td>\n",
       "      <td>0.0</td>\n",
       "      <td>0.0</td>\n",
       "      <td>0.0</td>\n",
       "      <td>0.0</td>\n",
       "    </tr>\n",
       "  </tbody>\n",
       "</table>\n",
       "</div>"
      ],
      "text/plain": [
       "   pickup_longitude  pickup_latitude  dropoff_longitude  dropoff_latitude  \\\n",
       "0          0.086612         0.732077           0.082304          0.755336   \n",
       "1          0.083718         0.688120           0.077657          0.696472   \n",
       "2          0.084129         0.688956           0.078349          0.723867   \n",
       "3          0.085133         0.702232           0.078006          0.701349   \n",
       "4          0.087505         0.717896           0.079359          0.711610   \n",
       "\n",
       "   simple_mean  passenger_count_1  passenger_count_2  passenger_count_3  \\\n",
       "0          0.0                1.0                0.0                0.0   \n",
       "1          0.0                1.0                0.0                0.0   \n",
       "2          0.0                0.0                0.0                0.0   \n",
       "3          0.0                1.0                0.0                0.0   \n",
       "4          0.0                1.0                0.0                0.0   \n",
       "\n",
       "   passenger_count_4  passenger_count_5  passenger_count_6  \n",
       "0                0.0                0.0                0.0  \n",
       "1                0.0                0.0                0.0  \n",
       "2                1.0                0.0                0.0  \n",
       "3                0.0                0.0                0.0  \n",
       "4                0.0                0.0                0.0  "
      ]
     },
     "execution_count": 31,
     "metadata": {},
     "output_type": "execute_result"
    }
   ],
   "source": [
    "# Scaling the data \n",
    "\n",
    "from sklearn.preprocessing import MinMaxScaler\n",
    "Scaler = MinMaxScaler()\n",
    "x_scaled = Scaler.fit_transform(x)\n",
    "x = pd.DataFrame(x_scaled,columns=x.columns)\n",
    "x.head()"
   ]
  },
  {
   "cell_type": "code",
   "execution_count": 32,
   "id": "49cb967a",
   "metadata": {},
   "outputs": [
    {
     "data": {
      "text/plain": [
       "((80000, 11), (20000, 11), (80000,), (20000,))"
      ]
     },
     "execution_count": 32,
     "metadata": {},
     "output_type": "execute_result"
    }
   ],
   "source": [
    "# Importing the train test split function\n",
    "\n",
    "from sklearn.model_selection import train_test_split\n",
    "x_train, x_test, y_train, y_test = train_test_split(x, y, test_size=0.2, random_state=51)\n",
    "x_train.shape,x_test.shape,y_train.shape,y_test.shape"
   ]
  },
  {
   "cell_type": "code",
   "execution_count": 33,
   "id": "cc3186af",
   "metadata": {},
   "outputs": [],
   "source": [
    "# Importing knn regressor and metric mse\n",
    "\n",
    "from sklearn.neighbors import KNeighborsRegressor as KNN\n",
    "from sklearn.metrics import mean_squared_error as MSE"
   ]
  },
  {
   "cell_type": "code",
   "execution_count": 34,
   "id": "0169f3c5",
   "metadata": {},
   "outputs": [
    {
     "name": "stdout",
     "output_type": "stream",
     "text": [
      "Test RMSE is 1.596804859851506\n"
     ]
    }
   ],
   "source": [
    "# Creating instance of KNN\n",
    "reg = KNN(n_neighbors=3)\n",
    "\n",
    "# Fitting the model\n",
    "reg.fit(x_train,y_train)\n",
    "\n",
    "# Predicting over the train set and calculating rmse\n",
    "test_predict = reg.predict(x_test)\n",
    "k = sqrt(MSE(test_predict,y_test))\n",
    "print('Test RMSE is',k)"
   ]
  },
  {
   "cell_type": "markdown",
   "id": "43437af4",
   "metadata": {},
   "source": [
    "### ELBOW for classifier"
   ]
  },
  {
   "cell_type": "code",
   "execution_count": 35,
   "id": "c7461771",
   "metadata": {},
   "outputs": [],
   "source": [
    "def ELBOW(k):\n",
    "    test_error = []\n",
    "    # training model for every value of k\n",
    "    for i in k:\n",
    "        # instance of KNN\n",
    "        reg = KNN(n_neighbors = i)\n",
    "        reg.fit(x_train,y_train)\n",
    "        # Appending RMSE scores to empty list calculated using the predictions\n",
    "        test_predict = reg.predict(x_test)\n",
    "        rmse = sqrt(MSE(test_predict,y_test))\n",
    "        test_error.append(rmse)\n",
    "    return test_error"
   ]
  },
  {
   "cell_type": "code",
   "execution_count": 45,
   "id": "40f7712a",
   "metadata": {},
   "outputs": [],
   "source": [
    "# Defining K range\n",
    "\n",
    "k= range(1,50,10)"
   ]
  },
  {
   "cell_type": "code",
   "execution_count": 46,
   "id": "be97ff86",
   "metadata": {},
   "outputs": [],
   "source": [
    "# calling above defined function\n",
    "\n",
    "score = ELBOW(k)"
   ]
  },
  {
   "cell_type": "code",
   "execution_count": 57,
   "id": "ae8f5324",
   "metadata": {},
   "outputs": [
    {
     "data": {
      "text/plain": [
       "Text(0.5, 1.0, 'Elbow curve for test')"
      ]
     },
     "execution_count": 57,
     "metadata": {},
     "output_type": "execute_result"
    },
    {
     "data": {
      "image/png": "[encoded data removed]",
      "text/plain": [
       "<Figure size 432x288 with 1 Axes>"
      ]
     },
     "metadata": {
      "needs_background": "light"
     },
     "output_type": "display_data"
    }
   ],
   "source": [
    "# plotting the curves\n",
    "\n",
    "plt.plot(k,score,color = 'red')\n",
    "plt.xlabel('K Neighbors')\n",
    "plt.ylabel('Test Error')\n",
    "plt.title('Elbow curve for test')"
   ]
  },
  {
   "cell_type": "markdown",
   "id": "ee3d2b2d",
   "metadata": {},
   "source": [
    "We can see from the above ELBOW curve that the optimum value of k is around 21."
   ]
  },
  {
   "cell_type": "code",
   "execution_count": 49,
   "id": "c185c2fe",
   "metadata": {},
   "outputs": [
    {
     "name": "stdout",
     "output_type": "stream",
     "text": [
      "Test RMSE is 0.9115394018508014\n"
     ]
    }
   ],
   "source": [
    "# Creating instance of KNN\n",
    "reg = KNN(n_neighbors=21)\n",
    "\n",
    "# Fitting the model\n",
    "reg.fit(x_train,y_train)\n",
    "\n",
    "# Predicting over the train set and calculating rmse\n",
    "test_predict = reg.predict(x_test)\n",
    "k_1 = sqrt(MSE(test_predict,y_test))\n",
    "print('Test RMSE is',k_1)"
   ]
  },
  {
   "cell_type": "markdown",
   "id": "6d8f34bb",
   "metadata": {},
   "source": [
    "## Linear Regression Model"
   ]
  },
  {
   "cell_type": "code",
   "execution_count": 50,
   "id": "26600bab",
   "metadata": {},
   "outputs": [
    {
     "data": {
      "text/plain": [
       "((100000, 11), (100000,))"
      ]
     },
     "execution_count": 50,
     "metadata": {},
     "output_type": "execute_result"
    }
   ],
   "source": [
    "# Separating independent and dependent variables\n",
    "\n",
    "a = Filtered_data\n",
    "b = sample_data['trip_duration_hours']\n",
    "a.shape,b.shape"
   ]
  },
  {
   "cell_type": "code",
   "execution_count": 51,
   "id": "21e18f00",
   "metadata": {},
   "outputs": [
    {
     "data": {
      "text/plain": [
       "((80000, 11), (20000, 11), (80000,), (20000,))"
      ]
     },
     "execution_count": 51,
     "metadata": {},
     "output_type": "execute_result"
    }
   ],
   "source": [
    "# Importing the train test split function\n",
    "\n",
    "from sklearn.model_selection import train_test_split\n",
    "a_train, a_test, b_train, b_test = train_test_split(a, b, test_size=0.2, random_state=1)\n",
    "a_train.shape,a_test.shape,b_train.shape,b_test.shape"
   ]
  },
  {
   "cell_type": "code",
   "execution_count": 52,
   "id": "228af381",
   "metadata": {},
   "outputs": [],
   "source": [
    "#importing Linear Regression and metric mean square error\n",
    "from sklearn.linear_model import LinearRegression as LR\n",
    "from sklearn.metrics import mean_squared_error as MSE"
   ]
  },
  {
   "cell_type": "code",
   "execution_count": 53,
   "id": "874e0d66",
   "metadata": {},
   "outputs": [
    {
     "data": {
      "text/plain": [
       "LinearRegression()"
      ]
     },
     "execution_count": 53,
     "metadata": {},
     "output_type": "execute_result"
    }
   ],
   "source": [
    "# Creating instance of Linear Regresssion\n",
    "lr = LR()\n",
    "\n",
    "# Fitting the model\n",
    "lr.fit(a_train,b_train)"
   ]
  },
  {
   "cell_type": "code",
   "execution_count": 54,
   "id": "f978188f",
   "metadata": {},
   "outputs": [
    {
     "name": "stdout",
     "output_type": "stream",
     "text": [
      "Test RMSE     0.722378006063582\n"
     ]
    }
   ],
   "source": [
    "# Predicting over the Test Set and calculating error\n",
    "test_predict_2 = lr.predict(a_test)\n",
    "k_2 = sqrt(MSE(test_predict_2, b_test))\n",
    "print('Test RMSE    ', k_2 )"
   ]
  },
  {
   "cell_type": "code",
   "execution_count": 55,
   "id": "9aca6d8d",
   "metadata": {},
   "outputs": [
    {
     "data": {
      "text/plain": [
       "array([ 1.50441719e+00, -1.63442067e+00, -2.59422442e-02, -2.04529442e-01,\n",
       "       -3.43957856e+11, -1.33186477e+12, -1.33186477e+12, -1.33186477e+12,\n",
       "       -1.33186477e+12, -1.33186477e+12, -1.33186477e+12])"
      ]
     },
     "execution_count": 55,
     "metadata": {},
     "output_type": "execute_result"
    }
   ],
   "source": [
    "# Parameters of Linear Regression\n",
    "lr.coef_"
   ]
  },
  {
   "cell_type": "markdown",
   "id": "ed2fc31a",
   "metadata": {},
   "source": [
    "### Plotting the coefficients"
   ]
  },
  {
   "cell_type": "code",
   "execution_count": 56,
   "id": "c8d32293",
   "metadata": {},
   "outputs": [
    {
     "data": {
      "text/plain": [
       "Text(0.5, 1.0, 'Coefficient plot')"
      ]
     },
     "execution_count": 56,
     "metadata": {},
     "output_type": "execute_result"
    },
    {
     "data": {
      "image/png": "[encoded data removed]",
      "text/plain": [
       "<Figure size 960x720 with 1 Axes>"
      ]
     },
     "metadata": {},
     "output_type": "display_data"
    }
   ],
   "source": [
    "plt.figure(figsize=(8, 6), dpi=120, facecolor='w', edgecolor='r')\n",
    "x = range(len(a_train.columns))\n",
    "y = lr.coef_\n",
    "plt.bar( x, y )\n",
    "plt.xlabel( \"Variables\")\n",
    "plt.ylabel('Coefficients')\n",
    "plt.title('Coefficient plot')"
   ]
  },
  {
   "cell_type": "markdown",
   "id": "eca3fb6d",
   "metadata": {},
   "source": [
    "Here we can see that the model depends upon some Independent variables toos much, But these coefficients are not suitable for interpretation because these are not scaled"
   ]
  },
  {
   "cell_type": "markdown",
   "id": "89286ae9",
   "metadata": {},
   "source": [
    "### Checking the assumptions of linear model"
   ]
  },
  {
   "cell_type": "code",
   "execution_count": 58,
   "id": "1370445a",
   "metadata": {},
   "outputs": [
    {
     "data": {
      "text/html": [
       "<div>\n",
       "<style scoped>\n",
       "    .dataframe tbody tr th:only-of-type {\n",
       "        vertical-align: middle;\n",
       "    }\n",
       "\n",
       "    .dataframe tbody tr th {\n",
       "        vertical-align: top;\n",
       "    }\n",
       "\n",
       "    .dataframe thead th {\n",
       "        text-align: right;\n",
       "    }\n",
       "</style>\n",
       "<table border=\"1\" class=\"dataframe\">\n",
       "  <thead>\n",
       "    <tr style=\"text-align: right;\">\n",
       "      <th></th>\n",
       "      <th>fitted values</th>\n",
       "      <th>predicted values</th>\n",
       "      <th>residuals</th>\n",
       "    </tr>\n",
       "  </thead>\n",
       "  <tbody>\n",
       "    <tr>\n",
       "      <th>176562</th>\n",
       "      <td>0.231111</td>\n",
       "      <td>0.257568</td>\n",
       "      <td>-0.026457</td>\n",
       "    </tr>\n",
       "    <tr>\n",
       "      <th>479297</th>\n",
       "      <td>0.426389</td>\n",
       "      <td>0.276611</td>\n",
       "      <td>0.149778</td>\n",
       "    </tr>\n",
       "    <tr>\n",
       "      <th>554524</th>\n",
       "      <td>0.001667</td>\n",
       "      <td>0.744873</td>\n",
       "      <td>-0.743206</td>\n",
       "    </tr>\n",
       "    <tr>\n",
       "      <th>494240</th>\n",
       "      <td>0.165278</td>\n",
       "      <td>0.286621</td>\n",
       "      <td>-0.121343</td>\n",
       "    </tr>\n",
       "    <tr>\n",
       "      <th>653052</th>\n",
       "      <td>0.138333</td>\n",
       "      <td>0.257080</td>\n",
       "      <td>-0.118747</td>\n",
       "    </tr>\n",
       "  </tbody>\n",
       "</table>\n",
       "</div>"
      ],
      "text/plain": [
       "        fitted values  predicted values  residuals\n",
       "176562       0.231111          0.257568  -0.026457\n",
       "479297       0.426389          0.276611   0.149778\n",
       "554524       0.001667          0.744873  -0.743206\n",
       "494240       0.165278          0.286621  -0.121343\n",
       "653052       0.138333          0.257080  -0.118747"
      ]
     },
     "execution_count": 58,
     "metadata": {},
     "output_type": "execute_result"
    }
   ],
   "source": [
    "# Arranging and calculating the Residuals\n",
    "residuals = pd.DataFrame({\n",
    "    'fitted values' : b_test,\n",
    "    'predicted values' : test_predict_2,\n",
    "})\n",
    "\n",
    "residuals['residuals'] = residuals['fitted values'] - residuals['predicted values']\n",
    "residuals.head()"
   ]
  },
  {
   "cell_type": "markdown",
   "id": "eefc2535",
   "metadata": {},
   "source": [
    "### Checking Distribution of residuals"
   ]
  },
  {
   "cell_type": "code",
   "execution_count": 59,
   "id": "e0cb997b",
   "metadata": {},
   "outputs": [
    {
     "data": {
      "image/png": "[encoded data removed]",
      "text/plain": [
       "<Figure size 1200x720 with 1 Axes>"
      ]
     },
     "metadata": {},
     "output_type": "display_data"
    }
   ],
   "source": [
    "# Histogram for distribution\n",
    "plt.figure(figsize=(10, 6), dpi=120, facecolor='w', edgecolor='b')\n",
    "plt.hist(residuals.residuals, bins = 150)\n",
    "plt.xlabel('Error')\n",
    "plt.ylabel('Frequency')\n",
    "plt.title('Distribution of Error Terms')\n",
    "plt.show()"
   ]
  },
  {
   "cell_type": "code",
   "execution_count": 75,
   "id": "5701d094",
   "metadata": {},
   "outputs": [
    {
     "data": {
      "image/png": "[encoded data removed]",
      "text/plain": [
       "<Figure size 600x600 with 1 Axes>"
      ]
     },
     "metadata": {
      "needs_background": "light"
     },
     "output_type": "display_data"
    }
   ],
   "source": [
    "# importing the QQ-plot from the from the statsmodels\n",
    "from statsmodels.graphics.gofplots import qqplot\n",
    "\n",
    "## Plotting the QQ plot\n",
    "fig, ax = plt.subplots(figsize=(5,5) , dpi = 120)\n",
    "qqplot(residuals.residuals, line = 's' , ax = ax)\n",
    "plt.ylabel('Residual Quantiles')\n",
    "plt.xlabel('Ideal Scaled Quantiles')\n",
    "plt.title('Checking distribution of Residual Errors')\n",
    "plt.legend(['Residual Quantiles','Ideal Scaled Quantiles'])\n",
    "plt.show()"
   ]
  },
  {
   "cell_type": "markdown",
   "id": "82e1c91c",
   "metadata": {},
   "source": [
    "*  On computing the coefficients we observed there are some negative values as well.\n",
    "*  On plotting the qq plot we see that the residual quantile line does'nt fit over all ideal scaled Quantiles."
   ]
  },
  {
   "cell_type": "markdown",
   "id": "a3a6a7b6",
   "metadata": {},
   "source": [
    "## Decision Tree Model"
   ]
  },
  {
   "cell_type": "code",
   "execution_count": 61,
   "id": "5ece7cb7",
   "metadata": {},
   "outputs": [
    {
     "data": {
      "text/plain": [
       "((100000, 11), (100000,))"
      ]
     },
     "execution_count": 61,
     "metadata": {},
     "output_type": "execute_result"
    }
   ],
   "source": [
    "# Separating independent and dependent variables\n",
    "\n",
    "p = Filtered_data\n",
    "q = sample_data['trip_duration_hours']\n",
    "p.shape,q.shape"
   ]
  },
  {
   "cell_type": "code",
   "execution_count": 62,
   "id": "886d7710",
   "metadata": {},
   "outputs": [],
   "source": [
    "# Importing the train test split function\n",
    "\n",
    "from sklearn.model_selection import train_test_split\n",
    "p_train,p_test,q_train,q_test = train_test_split(p,q,random_state=25)"
   ]
  },
  {
   "cell_type": "code",
   "execution_count": 63,
   "id": "8c3b870b",
   "metadata": {},
   "outputs": [],
   "source": [
    "#importing Decision Tree Regressor and metric mean square error\n",
    "from sklearn.tree import DecisionTreeRegressor as tree\n",
    "from sklearn.metrics import mean_squared_error as MSE"
   ]
  },
  {
   "cell_type": "code",
   "execution_count": 64,
   "id": "5ac25390",
   "metadata": {},
   "outputs": [
    {
     "data": {
      "text/plain": [
       "DecisionTreeRegressor()"
      ]
     },
     "execution_count": 64,
     "metadata": {},
     "output_type": "execute_result"
    }
   ],
   "source": [
    "# Creating instance of Decision Tree Regressor\n",
    "tree = tree()\n",
    "\n",
    "# Fitting the model\n",
    "tree.fit(p,q)"
   ]
  },
  {
   "cell_type": "code",
   "execution_count": 65,
   "id": "374a049e",
   "metadata": {},
   "outputs": [
    {
     "name": "stdout",
     "output_type": "stream",
     "text": [
      "Test RMSE     0.0013194192980059893\n"
     ]
    }
   ],
   "source": [
    "# Predicting over the Test Set and calculating error\n",
    "test_predict_3 = tree.predict(p_test)\n",
    "k_3 = sqrt(MSE(test_predict_3, q_test))\n",
    "print('Test RMSE    ', k_3 )"
   ]
  },
  {
   "cell_type": "markdown",
   "id": "981023ea",
   "metadata": {},
   "source": [
    "## Scores of all Models"
   ]
  },
  {
   "cell_type": "code",
   "execution_count": 66,
   "id": "77f6b79e",
   "metadata": {},
   "outputs": [],
   "source": [
    "#Calculating train scores of each model\n",
    "knn_train_score = reg.score(x_train,y_train)\n",
    "linear_train_score = lr.score(a_train,b_train)\n",
    "decision_train_score = tree.score(p_train,q_train)"
   ]
  },
  {
   "cell_type": "code",
   "execution_count": 67,
   "id": "0525fe40",
   "metadata": {},
   "outputs": [
    {
     "data": {
      "text/plain": [
       "(0.06218552282987655, 0.0020427439432741945, 0.9999999342713259)"
      ]
     },
     "execution_count": 67,
     "metadata": {},
     "output_type": "execute_result"
    }
   ],
   "source": [
    "knn_train_score,linear_train_score,decision_train_score"
   ]
  },
  {
   "cell_type": "code",
   "execution_count": 68,
   "id": "2cfa7671",
   "metadata": {},
   "outputs": [],
   "source": [
    "#Plotting Model Scores\n",
    "x=['knn_train_score','linear_train_score','decision_train_score']\n",
    "y=[0.06218552282987655, 0.0020427439432741945, 0.9999999342713259]"
   ]
  },
  {
   "cell_type": "code",
   "execution_count": 69,
   "id": "00977458",
   "metadata": {},
   "outputs": [
    {
     "data": {
      "image/png": "[encoded data removed]",
      "text/plain": [
       "<Figure size 600x400 with 1 Axes>"
      ]
     },
     "metadata": {
      "needs_background": "light"
     },
     "output_type": "display_data"
    }
   ],
   "source": [
    "plt.figure(dpi=100)\n",
    "plt.bar(x,y,color ='green',width = 0.8)\n",
    "plt.xlabel('Model Names')\n",
    "plt.ylabel(\"Train Score\")\n",
    "plt.title('Plotting Train Model Scores')\n",
    "plt.show()"
   ]
  },
  {
   "cell_type": "code",
   "execution_count": 70,
   "id": "0deccb69",
   "metadata": {},
   "outputs": [],
   "source": [
    "#Calculating test scores of each model\n",
    "knn_test_score = reg.score(x_test,y_test)\n",
    "linear_test_score = lr.score(a_test,b_test)\n",
    "decision_test_score = tree.score(p_test,q_test)"
   ]
  },
  {
   "cell_type": "code",
   "execution_count": 71,
   "id": "498c1826",
   "metadata": {},
   "outputs": [
    {
     "data": {
      "text/plain": [
       "(-0.14739887868126256, 0.010485708309207586, 0.9999979543731345)"
      ]
     },
     "execution_count": 71,
     "metadata": {},
     "output_type": "execute_result"
    }
   ],
   "source": [
    "knn_test_score,linear_test_score,decision_test_score"
   ]
  },
  {
   "cell_type": "code",
   "execution_count": 72,
   "id": "f96a8a84",
   "metadata": {},
   "outputs": [],
   "source": [
    "#Plotting Model Scores\n",
    "x=['knn_test_score','linear_test_score','decision_test_score']\n",
    "y=[-0.14739887868126256, 0.010485708309207586, 0.9999979543731345]"
   ]
  },
  {
   "cell_type": "code",
   "execution_count": 73,
   "id": "e1035472",
   "metadata": {},
   "outputs": [
    {
     "data": {
      "image/png": "[encoded data removed]",
      "text/plain": [
       "<Figure size 600x400 with 1 Axes>"
      ]
     },
     "metadata": {
      "needs_background": "light"
     },
     "output_type": "display_data"
    }
   ],
   "source": [
    "plt.figure(dpi=100)\n",
    "plt.bar(x,y,color ='green',width = 0.8)\n",
    "plt.xlabel('Model Names')\n",
    "plt.ylabel(\"Test Score\")\n",
    "plt.title('Plotting Test Model Scores')\n",
    "plt.show()"
   ]
  },
  {
   "cell_type": "code",
   "execution_count": 74,
   "id": "6707b53f",
   "metadata": {},
   "outputs": [
    {
     "data": {
      "text/plain": [
       "(0.9115394018508014, 0.722378006063582, 0.0013194192980059893)"
      ]
     },
     "execution_count": 74,
     "metadata": {},
     "output_type": "execute_result"
    }
   ],
   "source": [
    "k_1,k_2,k_3"
   ]
  },
  {
   "cell_type": "markdown",
   "id": "740a0445",
   "metadata": {},
   "source": [
    "*  <b>From the 3 models (KNN,LR,Decision Tree) the train score and test score for Decision Tree is around 0.999 and hence it is the best model for predicting the Trip duration.\n",
    "    \n",
    "*  <b>Also the RMSE for Decision Tree model is lowest (k_3 = 0.0013194192980059893)"
   ]
  }
 ],
 "metadata": {
  "kernelspec": {
   "display_name": "Python 3 (ipykernel)",
   "language": "python",
   "name": "python3"
  },
  "language_info": {
   "codemirror_mode": {
    "name": "ipython",
    "version": 3
   },
   "file_extension": ".py",
   "mimetype": "text/x-python",
   "name": "python",
   "nbconvert_exporter": "python",
   "pygments_lexer": "ipython3",
   "version": "3.9.7"
  }
 },
 "nbformat": 4,
 "nbformat_minor": 5
}
